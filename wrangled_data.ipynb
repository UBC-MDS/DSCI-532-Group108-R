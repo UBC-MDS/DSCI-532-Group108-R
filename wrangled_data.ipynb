{
 "cells": [
  {
   "cell_type": "code",
   "execution_count": 1,
   "metadata": {},
   "outputs": [],
   "source": [
    "import pandas as pd"
   ]
  },
  {
   "cell_type": "code",
   "execution_count": 2,
   "metadata": {},
   "outputs": [],
   "source": [
    "df = pd.read_csv('data/crimedata_csv_all_years.csv')\n",
    "df = df.query('NEIGHBOURHOOD == NEIGHBOURHOOD & NEIGHBOURHOOD != \"Musqueam\" & NEIGHBOURHOOD != \"Stanley Park\"')\n",
    "df['DATE'] = pd.to_datetime({'year':df['YEAR'], 'month':df['MONTH'], 'day':df['DAY'], 'hour':df['HOUR']})\n",
    "df['DAY_OF_WEEK_NAME'] = pd.DatetimeIndex(df['DATE']).day_name()\n",
    "dofw = pd.DataFrame({'DAY_OF_WEEK_NAME': [\"Monday\", \"Tuesday\", \"Wednesday\", \"Thursday\", \"Friday\", \"Saturday\", \"Sunday\"], 'DAY_OF_WEEK': [1,2,3,4,5,6,7]})\n",
    "df = pd.merge(df, dofw, how=\"left\", on=\"DAY_OF_WEEK_NAME\")"
   ]
  },
  {
   "cell_type": "code",
   "execution_count": 4,
   "metadata": {},
   "outputs": [],
   "source": [
    "df.to_csv('data/crimedata_csv_all_years_modified.csv')"
   ]
  },
  {
   "cell_type": "code",
   "execution_count": 5,
   "metadata": {},
   "outputs": [],
   "source": [
    "import geopandas as gpd\n",
    "import json\n",
    "from shapely.geometry import Point, Polygon\n",
    "import shapely.wkt"
   ]
  },
  {
   "cell_type": "code",
   "execution_count": 6,
   "metadata": {},
   "outputs": [],
   "source": [
    "def get_geopandas_df(path):\n",
    "    \"\"\"\n",
    "    Create a geopandas dataframe from the geeojson at the specified filepath\n",
    "    \"\"\"\n",
    "    with open(path) as json_data:\n",
    "        open_json = json.load(json_data)\n",
    "    gdf = gpd.GeoDataFrame.from_features(open_json)\n",
    "    return gdf\n",
    "\n",
    "geojson_filepath = 'data/our_geojson.geojson'\n",
    "gdf = get_geopandas_df(geojson_filepath)\n",
    "gdf = gdf.rename(columns = {'Name': 'NEIGHBOURHOOD'}).drop(columns = 'description')"
   ]
  },
  {
   "cell_type": "code",
   "execution_count": 7,
   "metadata": {},
   "outputs": [],
   "source": [
    "gdf.to_file(\"data/our_geojson_modified.geojson\", driver='GeoJSON')"
   ]
  },
  {
   "cell_type": "code",
   "execution_count": null,
   "metadata": {},
   "outputs": [],
   "source": []
  }
 ],
 "metadata": {
  "kernelspec": {
   "display_name": "Python 3",
   "language": "python",
   "name": "python3"
  },
  "language_info": {
   "codemirror_mode": {
    "name": "ipython",
    "version": 3
   },
   "file_extension": ".py",
   "mimetype": "text/x-python",
   "name": "python",
   "nbconvert_exporter": "python",
   "pygments_lexer": "ipython3",
   "version": "3.7.3"
  }
 },
 "nbformat": 4,
 "nbformat_minor": 4
}
